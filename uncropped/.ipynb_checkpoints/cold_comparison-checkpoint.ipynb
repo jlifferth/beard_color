{
 "cells": [
  {
   "cell_type": "code",
   "execution_count": 3,
   "id": "8a41a8e7",
   "metadata": {},
   "outputs": [],
   "source": [
    "%matplotlib inline\n",
    "import imageio\n",
    "import matplotlib.pyplot as plt\n",
    "import seaborn as sns\n",
    "import os"
   ]
  },
  {
   "cell_type": "code",
   "execution_count": 8,
   "id": "eacd15f0",
   "metadata": {},
   "outputs": [
    {
     "name": "stdout",
     "output_type": "stream",
     "text": [
      "['/Users/jonathanlifferth/Documents/Health/beard_color/small/2022-01-09_11-18cb.jpg', '/Users/jonathanlifferth/Documents/Health/beard_color/small/2022-01-21_09-15cb.jpg', '/Users/jonathanlifferth/Documents/Health/beard_color/small/2022-01-19_10-07cb.jpg', '/Users/jonathanlifferth/Documents/Health/beard_color/small/2022-01-10_06-15cb.jpg', '/Users/jonathanlifferth/Documents/Health/beard_color/small/2022-01-13_16-08cb.jpg', '/Users/jonathanlifferth/Documents/Health/beard_color/small/2022-01-11_08-34cb.jpg']\n",
      "\n",
      "['/Users/jonathanlifferth/Documents/Health/beard_color/small/2022-01-10_06-27ca.jpg', '/Users/jonathanlifferth/Documents/Health/beard_color/small/2022-01-13_16-31ca.jpg', '/Users/jonathanlifferth/Documents/Health/beard_color/small/2022-01-19_10-15ca.jpg', '/Users/jonathanlifferth/Documents/Health/beard_color/small/2022-01-11_08-48ca.jpg', '/Users/jonathanlifferth/Documents/Health/beard_color/small/2022-01-09_11-33ca.jpg', '/Users/jonathanlifferth/Documents/Health/beard_color/small/2022-01-21_09-41ca.jpg']\n"
     ]
    }
   ],
   "source": [
    "target_dir = '/Users/jonathanlifferth/Documents/Health/beard_color/small'\n",
    "\n",
    "cold_before_paths = []\n",
    "cold_after_paths = []\n",
    "for root, dirs, files in os.walk(target_dir):\n",
    "    for file in files:\n",
    "        if file.endswith('cb.jpg'):\n",
    "            cold_before_paths.append(os.path.join(root,file))\n",
    "        elif file.endswith('ca.jpg'):\n",
    "            cold_after_paths.append(os.path.join(root,file))\n",
    "\n",
    "print(cold_before_paths)\n",
    "print()\n",
    "print(cold_after_paths)"
   ]
  },
  {
   "cell_type": "code",
   "execution_count": 9,
   "id": "adf8dccb",
   "metadata": {},
   "outputs": [
    {
     "name": "stdout",
     "output_type": "stream",
     "text": [
      "/Users/jonathanlifferth/Documents/Health/beard_color/small/2022-01-09_11-18cb.jpg\n",
      "/Users/jonathanlifferth/Documents/Health/beard_color/small/2022-01-21_09-15cb.jpg\n",
      "/Users/jonathanlifferth/Documents/Health/beard_color/small/2022-01-19_10-07cb.jpg\n",
      "/Users/jonathanlifferth/Documents/Health/beard_color/small/2022-01-10_06-15cb.jpg\n",
      "/Users/jonathanlifferth/Documents/Health/beard_color/small/2022-01-13_16-08cb.jpg\n",
      "/Users/jonathanlifferth/Documents/Health/beard_color/small/2022-01-11_08-34cb.jpg\n"
     ]
    }
   ],
   "source": [
    "for path in cold_before_paths:\n",
    "    print(path)"
   ]
  }
 ],
 "metadata": {
  "kernelspec": {
   "display_name": "Python 3 (ipykernel)",
   "language": "python",
   "name": "python3"
  },
  "language_info": {
   "codemirror_mode": {
    "name": "ipython",
    "version": 3
   },
   "file_extension": ".py",
   "mimetype": "text/x-python",
   "name": "python",
   "nbconvert_exporter": "python",
   "pygments_lexer": "ipython3",
   "version": "3.9.6"
  }
 },
 "nbformat": 4,
 "nbformat_minor": 5
}
