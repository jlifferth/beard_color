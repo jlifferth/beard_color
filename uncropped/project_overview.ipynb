{
 "cells": [
  {
   "cell_type": "markdown",
   "id": "1e7e9b30",
   "metadata": {},
   "source": [
    "# Beard Color Project Overview\n",
    "\n",
    "At the start of 2022, I decided to try out the recent trend of _intentionally_ taking cold showers. After a few cold showers, I noticed something rather strange. When I looked in the mirror, my beard appear to be signficantly more red than usual. 🤔 I decided to investigate the strange phenomenon by alternating betwen cold and hot showers and taking pictures before and after each shower. I loaded all of the images into a python script using the imageio module and compared the R channel values from each pixel to quantify true true redness of my beard. This is what I found.\n",
    "\n",
    "### Period 1 - cold showers\n",
    "January 9, 10, 11, 12\n",
    "<ul>\n",
    "    <li> cold shower x 4\n",
    "</ul>\n",
    "\n",
    "### Period 2 - hot showers\n",
    "January 13, 14, 15, 16\n",
    "<ul>\n",
    "    <li> hot shower x 4\n",
    "</ul>\n",
    "\n",
    "### Period 3 - alternating cold and hot\n",
    "January 17, 18, 19, 20\n",
    "<ul>\n",
    "    <li> cold shower\n",
    "    <li> hot shower\n",
    "    <li> cold shower\n",
    "    <li> hot shower\n",
    "</ul>\n",
    "\n",
    "<img src=\"assets/Webp.net-gifmaker.gif\" width=\"200\" align=\"center\">"
   ]
  },
  {
   "cell_type": "code",
   "execution_count": 8,
   "id": "66329143",
   "metadata": {},
   "outputs": [],
   "source": [
    "import seaborn as sns\n",
    "import imageio\n",
    "import matplotlib.pyplot as plt\n",
    "%matplotlib inline"
   ]
  },
  {
   "cell_type": "code",
   "execution_count": null,
   "id": "52673901",
   "metadata": {},
   "outputs": [],
   "source": [
    "filename = \"/Users/jonathanlifferth/Documents/Health/beard_color/small/2022-01-09_11-18cb.jpeg\"\n",
    "\n",
    "image = img.imread(filename)\n",
    "\n",
    "print(image.shape)"
   ]
  }
 ],
 "metadata": {
  "kernelspec": {
   "display_name": "Python 3 (ipykernel)",
   "language": "python",
   "name": "python3"
  },
  "language_info": {
   "codemirror_mode": {
    "name": "ipython",
    "version": 3
   },
   "file_extension": ".py",
   "mimetype": "text/x-python",
   "name": "python",
   "nbconvert_exporter": "python",
   "pygments_lexer": "ipython3",
   "version": "3.9.6"
  }
 },
 "nbformat": 4,
 "nbformat_minor": 5
}
