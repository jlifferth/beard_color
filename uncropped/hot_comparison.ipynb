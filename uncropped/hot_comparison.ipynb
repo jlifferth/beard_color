{
 "cells": [
  {
   "cell_type": "code",
   "execution_count": 1,
   "id": "ef88df06",
   "metadata": {},
   "outputs": [],
   "source": [
    "%matplotlib inline\n",
    "import imageio\n",
    "import matplotlib.pyplot as plt\n",
    "import seaborn as sns\n",
    "import os\n",
    "import numpy as np\n",
    "import statistics\n",
    "import pandas as pd"
   ]
  },
  {
   "cell_type": "code",
   "execution_count": 15,
   "id": "d9c7fc3c",
   "metadata": {},
   "outputs": [
    {
     "name": "stdout",
     "output_type": "stream",
     "text": [
      "['/Users/jonathanlifferth/Documents/Health/beard_color/small/2022-01-14_09-53hb.jpg', '/Users/jonathanlifferth/Documents/Health/beard_color/small/2022-01-16_16-10hb.jpg', '/Users/jonathanlifferth/Documents/Health/beard_color/small/2022-01-17_11-49hb.jpg', '/Users/jonathanlifferth/Documents/Health/beard_color/small/2022-01-18_09-57hb.jpg', '/Users/jonathanlifferth/Documents/Health/beard_color/small/2022-01-20_12-26hb.jpg']\n",
      "\n",
      "['/Users/jonathanlifferth/Documents/Health/beard_color/small/2022-01-14_10-11ha.jpg', '/Users/jonathanlifferth/Documents/Health/beard_color/small/2022-01-16_16-38ha.jpg', '/Users/jonathanlifferth/Documents/Health/beard_color/small/2022-01-17_12-21ha.jpg', '/Users/jonathanlifferth/Documents/Health/beard_color/small/2022-01-18_10-28ha.jpg', '/Users/jonathanlifferth/Documents/Health/beard_color/small/2022-01-20_13-12ha.jpg']\n"
     ]
    }
   ],
   "source": [
    "# identify cold before image paths\n",
    "\n",
    "target_dir = '/Users/jonathanlifferth/Documents/Health/beard_color/small'\n",
    "\n",
    "hot_before_paths = []\n",
    "hot_after_paths = []\n",
    "for root, dirs, files in os.walk(target_dir):\n",
    "    for file in files:\n",
    "        if file.endswith('hb.jpg'):\n",
    "            hot_before_paths.append(os.path.join(root,file))\n",
    "        elif file.endswith('ha.jpg'):\n",
    "            hot_after_paths.append(os.path.join(root,file))\n",
    "\n",
    "# cold_before_paths = cold_before_paths.sort()\n",
    "# cold_after_paths = cold_after_paths.sort()\n",
    "\n",
    "hot_before_paths.sort()\n",
    "hot_after_paths.sort()\n",
    "\n",
    "print(hot_before_paths)\n",
    "print()\n",
    "print(hot_after_paths)"
   ]
  },
  {
   "cell_type": "code",
   "execution_count": 16,
   "id": "b99f5d9f",
   "metadata": {},
   "outputs": [
    {
     "name": "stdout",
     "output_type": "stream",
     "text": [
      "5\n",
      "\n",
      "5\n"
     ]
    }
   ],
   "source": [
    "print(len(hot_before_paths))\n",
    "print()\n",
    "print(len(hot_after_paths))"
   ]
  },
  {
   "cell_type": "code",
   "execution_count": 17,
   "id": "4f1f24eb",
   "metadata": {},
   "outputs": [],
   "source": [
    "# create list to hold hot before images\n",
    "\n",
    "hot_before_images = []\n",
    "for path in hot_before_paths:\n",
    "    filename = path\n",
    "    pic = imageio.imread(filename)\n",
    "    hot_before_images.append(pic)\n"
   ]
  },
  {
   "cell_type": "code",
   "execution_count": 18,
   "id": "ec584164",
   "metadata": {},
   "outputs": [],
   "source": [
    "# create list to hold hot before images\n",
    "\n",
    "hot_after_images = []\n",
    "for path in hot_after_paths:\n",
    "    filename = path\n",
    "    pic = imageio.imread(filename)\n",
    "    hot_after_images.append(pic)\n"
   ]
  },
  {
   "cell_type": "code",
   "execution_count": 19,
   "id": "673427e1",
   "metadata": {},
   "outputs": [
    {
     "name": "stdout",
     "output_type": "stream",
     "text": [
      "[132.88920276347423, 133.54734060387273, 132.84386326386263, 128.19517569759384, 136.69353849757496]\n",
      "[142.0, 149.0, 145.0, 129.0, 155.0]\n"
     ]
    }
   ],
   "source": [
    "# hot before - view red value summary statistics by image\n",
    "\n",
    "hot_before_means = []\n",
    "hot_before_medians = []\n",
    "\n",
    "for pic in hot_before_images:\n",
    "    r_channel = np.asarray(pic[ : , : , 0])\n",
    "    r_channel = r_channel.ravel().tolist()\n",
    "    mean = np.mean(r_channel)\n",
    "    hot_before_means.append(mean)\n",
    "    median = np.median(r_channel)\n",
    "    hot_before_medians.append(median)\n",
    "\n",
    "print(hot_before_means)\n",
    "print(hot_before_medians)"
   ]
  },
  {
   "cell_type": "code",
   "execution_count": 20,
   "id": "02c3bff2",
   "metadata": {},
   "outputs": [
    {
     "name": "stdout",
     "output_type": "stream",
     "text": [
      "[136.71111104549846, 134.8008782747281, 128.55486662257496, 126.26271967120181, 128.46309279402348]\n",
      "[138.0, 150.0, 131.0, 131.0, 138.0]\n"
     ]
    }
   ],
   "source": [
    "# hot after - view red value summary statistics by image\n",
    "\n",
    "hot_after_means = []\n",
    "hot_after_medians = []\n",
    "\n",
    "for pic in hot_after_images:\n",
    "    r_channel = np.asarray(pic[ : , : , 0])\n",
    "    r_channel = r_channel.ravel().tolist()\n",
    "    mean = np.mean(r_channel)\n",
    "    hot_after_means.append(mean)\n",
    "    median = np.median(r_channel)\n",
    "    hot_after_medians.append(median)\n",
    "\n",
    "print(hot_after_means)\n",
    "print(hot_after_medians)"
   ]
  },
  {
   "cell_type": "code",
   "execution_count": 21,
   "id": "a75d7206",
   "metadata": {},
   "outputs": [
    {
     "data": {
      "text/html": [
       "<div>\n",
       "<style scoped>\n",
       "    .dataframe tbody tr th:only-of-type {\n",
       "        vertical-align: middle;\n",
       "    }\n",
       "\n",
       "    .dataframe tbody tr th {\n",
       "        vertical-align: top;\n",
       "    }\n",
       "\n",
       "    .dataframe thead th {\n",
       "        text-align: right;\n",
       "    }\n",
       "</style>\n",
       "<table border=\"1\" class=\"dataframe\">\n",
       "  <thead>\n",
       "    <tr style=\"text-align: right;\">\n",
       "      <th></th>\n",
       "      <th>hb_mean</th>\n",
       "      <th>ha_mean</th>\n",
       "      <th>hb_median</th>\n",
       "      <th>ha_median</th>\n",
       "    </tr>\n",
       "  </thead>\n",
       "  <tbody>\n",
       "    <tr>\n",
       "      <th>0</th>\n",
       "      <td>132.889203</td>\n",
       "      <td>136.711111</td>\n",
       "      <td>142.0</td>\n",
       "      <td>138.0</td>\n",
       "    </tr>\n",
       "    <tr>\n",
       "      <th>1</th>\n",
       "      <td>133.547341</td>\n",
       "      <td>134.800878</td>\n",
       "      <td>149.0</td>\n",
       "      <td>150.0</td>\n",
       "    </tr>\n",
       "    <tr>\n",
       "      <th>2</th>\n",
       "      <td>132.843863</td>\n",
       "      <td>128.554867</td>\n",
       "      <td>145.0</td>\n",
       "      <td>131.0</td>\n",
       "    </tr>\n",
       "    <tr>\n",
       "      <th>3</th>\n",
       "      <td>128.195176</td>\n",
       "      <td>126.262720</td>\n",
       "      <td>129.0</td>\n",
       "      <td>131.0</td>\n",
       "    </tr>\n",
       "    <tr>\n",
       "      <th>4</th>\n",
       "      <td>136.693538</td>\n",
       "      <td>128.463093</td>\n",
       "      <td>155.0</td>\n",
       "      <td>138.0</td>\n",
       "    </tr>\n",
       "  </tbody>\n",
       "</table>\n",
       "</div>"
      ],
      "text/plain": [
       "      hb_mean     ha_mean  hb_median  ha_median\n",
       "0  132.889203  136.711111      142.0      138.0\n",
       "1  133.547341  134.800878      149.0      150.0\n",
       "2  132.843863  128.554867      145.0      131.0\n",
       "3  128.195176  126.262720      129.0      131.0\n",
       "4  136.693538  128.463093      155.0      138.0"
      ]
     },
     "execution_count": 21,
     "metadata": {},
     "output_type": "execute_result"
    }
   ],
   "source": [
    "hot_dict = {'hb_mean': hot_before_means, 'ha_mean': hot_after_means,\n",
    "            'hb_median': hot_before_medians, 'ha_median': hot_after_medians}\n",
    "\n",
    "hot_df = pd.DataFrame(hot_dict)\n",
    "hot_df"
   ]
  },
  {
   "cell_type": "code",
   "execution_count": 23,
   "id": "906ceba3",
   "metadata": {},
   "outputs": [],
   "source": [
    "hot_df['mean_Δ'] = hot_df['ha_mean'] - hot_df['hb_mean']\n",
    "hot_df['median_Δ'] = hot_df['ha_median'] - hot_df['hb_median']"
   ]
  },
  {
   "cell_type": "code",
   "execution_count": 24,
   "id": "c2d12b33",
   "metadata": {},
   "outputs": [
    {
     "data": {
      "text/html": [
       "<div>\n",
       "<style scoped>\n",
       "    .dataframe tbody tr th:only-of-type {\n",
       "        vertical-align: middle;\n",
       "    }\n",
       "\n",
       "    .dataframe tbody tr th {\n",
       "        vertical-align: top;\n",
       "    }\n",
       "\n",
       "    .dataframe thead th {\n",
       "        text-align: right;\n",
       "    }\n",
       "</style>\n",
       "<table border=\"1\" class=\"dataframe\">\n",
       "  <thead>\n",
       "    <tr style=\"text-align: right;\">\n",
       "      <th></th>\n",
       "      <th>hb_mean</th>\n",
       "      <th>ha_mean</th>\n",
       "      <th>hb_median</th>\n",
       "      <th>ha_median</th>\n",
       "      <th>mean_Δ</th>\n",
       "      <th>median_Δ</th>\n",
       "    </tr>\n",
       "  </thead>\n",
       "  <tbody>\n",
       "    <tr>\n",
       "      <th>0</th>\n",
       "      <td>132.889203</td>\n",
       "      <td>136.711111</td>\n",
       "      <td>142.0</td>\n",
       "      <td>138.0</td>\n",
       "      <td>3.821908</td>\n",
       "      <td>-4.0</td>\n",
       "    </tr>\n",
       "    <tr>\n",
       "      <th>1</th>\n",
       "      <td>133.547341</td>\n",
       "      <td>134.800878</td>\n",
       "      <td>149.0</td>\n",
       "      <td>150.0</td>\n",
       "      <td>1.253538</td>\n",
       "      <td>1.0</td>\n",
       "    </tr>\n",
       "    <tr>\n",
       "      <th>2</th>\n",
       "      <td>132.843863</td>\n",
       "      <td>128.554867</td>\n",
       "      <td>145.0</td>\n",
       "      <td>131.0</td>\n",
       "      <td>-4.288997</td>\n",
       "      <td>-14.0</td>\n",
       "    </tr>\n",
       "    <tr>\n",
       "      <th>3</th>\n",
       "      <td>128.195176</td>\n",
       "      <td>126.262720</td>\n",
       "      <td>129.0</td>\n",
       "      <td>131.0</td>\n",
       "      <td>-1.932456</td>\n",
       "      <td>2.0</td>\n",
       "    </tr>\n",
       "    <tr>\n",
       "      <th>4</th>\n",
       "      <td>136.693538</td>\n",
       "      <td>128.463093</td>\n",
       "      <td>155.0</td>\n",
       "      <td>138.0</td>\n",
       "      <td>-8.230446</td>\n",
       "      <td>-17.0</td>\n",
       "    </tr>\n",
       "  </tbody>\n",
       "</table>\n",
       "</div>"
      ],
      "text/plain": [
       "      hb_mean     ha_mean  hb_median  ha_median    mean_Δ  median_Δ\n",
       "0  132.889203  136.711111      142.0      138.0  3.821908      -4.0\n",
       "1  133.547341  134.800878      149.0      150.0  1.253538       1.0\n",
       "2  132.843863  128.554867      145.0      131.0 -4.288997     -14.0\n",
       "3  128.195176  126.262720      129.0      131.0 -1.932456       2.0\n",
       "4  136.693538  128.463093      155.0      138.0 -8.230446     -17.0"
      ]
     },
     "execution_count": 24,
     "metadata": {},
     "output_type": "execute_result"
    }
   ],
   "source": [
    "hot_df"
   ]
  }
 ],
 "metadata": {
  "kernelspec": {
   "display_name": "Python 3 (ipykernel)",
   "language": "python",
   "name": "python3"
  },
  "language_info": {
   "codemirror_mode": {
    "name": "ipython",
    "version": 3
   },
   "file_extension": ".py",
   "mimetype": "text/x-python",
   "name": "python",
   "nbconvert_exporter": "python",
   "pygments_lexer": "ipython3",
   "version": "3.9.6"
  }
 },
 "nbformat": 4,
 "nbformat_minor": 5
}
